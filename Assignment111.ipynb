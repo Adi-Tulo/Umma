{
 "cells": [
  {
   "cell_type": "markdown",
   "id": "dec074fa-a36c-4435-a1b8-d16d2d1b2a3f",
   "metadata": {},
   "source": [
    "<img src=\"jinka.jpg\" style=\"width:200px;height:400px\" />v>\n",
    "\n",
    "               \n",
    "                 \n",
    "                \n",
    "                 95"
   ]
  },
  {
   "cell_type": "markdown",
   "id": "e3c3f113-cfc5-47e8-b655-1a3014dd4d1e",
   "metadata": {},
   "source": [
    "#  COLLEGE OF NATURAL SCIENCE AND COMPUTATIONAL SCIENCE DEPARTMENT OF COMPUTER\n",
    "## ARTIFICIAL INTELLIGENCE PROJECT OF HOUSE PRICE PREDICTION DOCUMENTATION AND PRESENTATION \n",
    "## Submitted to:Tmx A \n",
    "## Student Name    id Number\n",
    "   ### 1 ADi    Tulo       - UGR/13195/14\n",
    "   ### 2 Rameto Kemal      - UGR/14738/14"
   ]
  },
  {
   "cell_type": "markdown",
   "id": "0ea45149-7055-425c-9c9f-7bf397311d9e",
   "metadata": {},
   "source": [
    " # 1 House Price Prediction"
   ]
  },
  {
   "cell_type": "markdown",
   "id": "5d27b7bd-976b-49e3-97e2-36fcc86c0e83",
   "metadata": {},
   "source": [
    "House price prediction refers to the process of using machine learning algorithms and statistical techniques to estimate the value of a house or property based on various features or attributes. These features can include factors such as the location of the property, size, number of bedrooms and bathrooms, amenities, neighborhood characteristics, and more.\n",
    "\n",
    "By analyzing historical data on house prices and their corresponding features, a predictive model can be built to predict the selling price of a house given its attributes. This can be useful for real estate agents, home buyers and sellers, investors, and other stakeholders to make informed decisions about buying, selling, or investing in properties."
   ]
  },
  {
   "cell_type": "markdown",
   "id": "7006c8f8-d224-4fa3-a220-35c8c6a22ff8",
   "metadata": {},
   "source": [
    "## 2 Problem definition\n",
    "The problem of house price prediction falls under the category of regression. This is because the goal is to predict a continuous numerical value (the price of the house) based on various features such as location, size, number of bedrooms, etc. Therefore, it is a regression problem."
   ]
  },
  {
   "cell_type": "markdown",
   "id": "4c7301d7-69ca-4639-b759-fb361b867b33",
   "metadata": {},
   "source": [
    "## 3.Data\n",
    "Data for house price prediction can be obtained from various sources, including real estate websites, property listings, public records, and specialized real estate data providers. Some common parameters that are used in house price prediction models include:\n",
    "\n",
    "1. Property features: Size of the property, number of bedrooms, number of bathrooms, lot size, and other physical attributes of the house.\n",
    "\n",
    "2. Location: Neighborhood, proximity to schools, parks, public transportation, shopping centers, and other amenities.\n",
    "\n",
    "3. Market trends: Historical sales data, average property prices in the area, and trends in the real estate market.\n",
    "\n",
    "4. Economic factors: Interest rates, employment rates, and other economic indicators that can influence property prices.\n",
    "\n",
    "5. Property condition: Renovation history, age of the property, and overall condition of the house."
   ]
  },
  {
   "cell_type": "markdown",
   "id": "d4cb7a0d-e222-4fc3-b743-95a06a3dce74",
   "metadata": {},
   "source": [
    "## 4.Evaluation\n",
    "When evaluating a house price prediction model, it's important to define an appropriate evaluation metric at the start of the project. The choice of evaluation metric will depend on the specific goals of the prediction model and the nature of the problem being addressed. Some common evaluation metrics for house price prediction include:\n",
    "\n",
    "1. Mean Absolute Error (MAE): This metric calculates the average absolute difference between the predicted prices and the actual prices. It provides a straightforward measure of prediction accuracy.\n",
    "\n",
    "2. Root Mean Squared Error (RMSE): RMSE is the square root of the MSE and provides a measure of the typical deviation of the predictions from the actual values. It is in the same unit as the target variable (e.g., dollars for house prices), making it easier to interpret."
   ]
  },
  {
   "cell_type": "markdown",
   "id": "35fbb2d8-6450-48bb-8ceb-12de13edf1b1",
   "metadata": {},
   "source": [
    "## 5.Evaluation\n",
    "Creating a data dictionary for a house price prediction project involves documenting the features (variables) in the dataset along with their descriptions and data types. This helps in understanding the information each feature provides and how it may be relevant for predicting house prices. Here is an example of a data dictionary for a house price prediction dataset:\n",
    "\n",
    "1. Feature 1: Overall Quality\n",
    "   - Description: A rating of the overall material and finish of the house.\n",
    "   - Data Type: Integer (1-10 scale)\n",
    "\n",
    "2. Feature 2: Year Built\n",
    "   - Description: The year the house was built.\n",
    "   - Data Type: Integer\n",
    "\n",
    "3. Feature 3: Total Square Feet\n",
    "   - Description: The total area of the house in square feet.\n",
    "   - Data Type: Integer\n",
    "\n",
    "4. Feature 4: Number of Bedrooms\n",
    "   - Description: The number of bedrooms in the house.\n",
    "   - Data Type: Integer\n",
    "\n",
    "5. Feature 5: Number of Bathrooms\n",
    "   - Description: The number of bathrooms in the house.\n",
    "   - Data Type: Float\n",
    "\n",
    "6. Feature 6: Neighborhood\n",
    "   - Description: The neighborhood where the house is located.\n",
    "   - Data Type: Categorical (e.g., 'Urban', 'Suburban', 'Rural')\n",
    "\n",
    "7. Feature 7: Garage Size\n",
    "   - Description: The size of the garage in car capacity.\n",
    "   - Data Type: Integer\n",
    "\n",
    "8. Feature 8: Sale Price\n",
    "   - Description: The actual sale price of the house (target variable).\n",
    "   - Data Type: Integer"
   ]
  },
  {
   "cell_type": "markdown",
   "id": "2164b15c-45d3-4a4e-8a68-5a7c892f0df2",
   "metadata": {},
   "source": [
    "## 6.Preparing the tools\n",
    "When preparing the tools for a house price prediction project, it's important to consolidate the necessary libraries at the top of your notebook for easy reference and usage. Here's how you can include these libraries in your Python notebook:\n",
    "\n",
    "\n",
    "import pandas as pd  # For data analysis\n",
    "import numpy as np  # For numerical operations\n",
    "import matplotlib.pyplot as plt  # For basic plotting\n",
    "import seaborn as sns  # For enhanced data visualization\n",
    "\n",
    "\n",
    "from sklearn.model_selection import train_test_split  # For splitting the data into training and testing sets\n",
    "from sklearn.preprocessing import StandardScaler  # For standardizing numerical features\n",
    "from sklearn.linear_model import LinearRegression  # For building a linear regression model\n",
    "from sklearn.metrics import mean_squared_error, r2_score  # For model evaluation\n",
    "\n",
    "\n",
    "By including these libraries at the top of your notebook, you'll have easy access to the necessary tools for data analysis, visualization, machine learning modeling, and evaluation throughout your house price prediction project."
   ]
  },
  {
   "cell_type": "markdown",
   "id": "45fc5521-b7cf-4de5-a72a-38eb2008f1bf",
   "metadata": {},
   "source": [
    "## 7.Load data\n",
    "To load data into your Python notebook for your structured data project, you can use the pandas library, which is a powerful tool for data manipulation and analysis. Here's how you can load a dataset into a pandas DataFrame:\n",
    "\n",
    "### Assuming your dataset is in a CSV file named 'data.csv' in the same directory as your notebook\n",
    "df = pd.read_csv('data.csv')\n",
    "\n",
    "### Display the first few rows of the DataFrame to verify that the data has been loaded correctly\n",
    "print(df.head())\n",
    "\n",
    "\n",
    "In this code snippet:\n",
    "- pd.read_csv('data.csv') reads the data from a CSV file named 'data.csv' and loads it into a pandas DataFrame named df.\n",
    "- print(df.head()) displays the first few rows of the DataFrame to check if the data has been loaded correctly.\n",
    "\n",
    "Make sure to replace 'data.csv' with the actual file path or URL of your dataset. You can also use other pd.read_ functions (e.g., pd.read_excel(), pd.read_sql()) depending on the format of your data."
   ]
  },
  {
   "cell_type": "markdown",
   "id": "b17bab0c-db67-4486-b1db-116e46dfc60a",
   "metadata": {},
   "source": [
    "import numpy as np\n",
    "import pandas as pd\n",
    "import matplotlib.pyplot as pltl"
   ]
  },
  {
   "cell_type": "markdown",
   "id": "c0381b1a-6a9f-40ee-a186-93791bf49055",
   "metadata": {},
   "source": [
    "## 8.Data exploration ( Exploratory data analysis or EDA )\n",
    "When performing exploratory data analysis (EDA) for a structured data project, it's important to follow a systematic approach to understand the data and gain insights. Here's a checklist to guide you through the EDA process:\n",
    "\n",
    "1. What questions are you trying to solve?\n",
    "   - Clearly define the objectives of your analysis. For example, in the context of house price prediction, you might be interested in understanding the factors that influence house prices or building a model to predict house prices accurately.\n",
    "\n",
    "2. What kind of data do you have and how do you treat different types?\n",
    "   - Identify the types of data you have, such as numerical, categorical, or text data. Use appropriate methods to handle each type, such as encoding categorical variables, scaling numerical features, and handling missing values.\n",
    "\n",
    "3. What is missing from the data and how do you deal with it?\n",
    "   - Identify missing values in the dataset and decide on an appropriate strategy to handle them, such as imputation, deletion, or using advanced techniques like predictive modeling to fill missing values.\n",
    "\n",
    "4. How can you compare different columns to each other, compare them to the target variable, and analyze the correlation between independent variables?\n",
    "   - Use statistical measures and visualization techniques to compare different columns, assess their relationship with the target variable (e.g., house price), and analyze correlations between independent variables using scatter plots, correlation matrices, and other methods.\n",
    "\n",
    "5. How can you add, change, or remove features to get more out of your data?\n",
    "   - Explore feature engineering techniques to create new features from existing ones, transform variables to improve model performance, and identify irrelevant or redundant features for removal.\n",
    "\n",
    "For house price prediction specifically, you might want to focus on understanding the relationships between features such as square footage, number of bedrooms, location, and other relevant factors with the target variable (house price). Visualizations such as scatter plots, box plots, and correlation matrices can be particularly useful in this context.\n",
    "\n",
    "Remember that EDA is an iterative process, and it's important to continuously refine your analysis based on the insights gained from each step."
   ]
  },
  {
   "cell_type": "markdown",
   "id": "d10a99a5-9c5d-426e-9047-cbdc25763537",
   "metadata": {},
   "source": [
    "## 9.Modelling\n",
    "When it comes to modeling for house price prediction, here is a step-by-step guide on how to approach each aspect:\n",
    "\n",
    "1. Features and Labels:\n",
    "   - Features are the independent variables that will be used to predict the house price, while the label is the dependent variable (house price) that you are trying to predict.\n",
    "   - Select relevant features that are likely to influence house prices, such as square footage, number of bedrooms, location, amenities, etc.\n",
    "   - Ensure that your data is prepared and preprocessed before proceeding to model building.\n",
    "\n",
    "2. Training and Test Split:\n",
    "   - Split your data into training and testing sets to evaluate the performance of your models.\n",
    "   - Typically, you would use around 80% of the data for training and the remaining 20% for testing.\n",
    "\n",
    "3. Model Choices:\n",
    "   - Choose appropriate regression models for house price prediction, such as , RandomForestClassifier, etc.\n",
    "   - Consider using ensemble methods like Random Forest or Gradient Boosting for better predictive performance.\n",
    "\n",
    "4. Model Comparison:\n",
    "   - Train multiple models on the training data and evaluate their performance on the test data using metrics like Mean Squared Error (MSE), Root Mean Squared Error (RMSE),\n",
    "   - Compare the performance of different models to select the one that best fits your data and provides the most accurate predictions.\n",
    "\n",
    "5. Hyperparameter Tuning and Cross-Validation:\n",
    "   - Cross-validation helps in estimating how well your model will perform on unseen data by splitting the data into multiple subsets for training and testing.\n"
   ]
  },
  {
   "cell_type": "markdown",
   "id": "de8bb9dd-b7b9-4040-8e2f-40f67ec10288",
   "metadata": {},
   "source": [
    "## 10.Evaluating your model, beyond the default score() evaluator\n",
    "For classification\n",
    "To further evaluate your classification model beyond the default score() evaluator, you can consider using the following techniques:\n",
    "\n",
    "1. ROC curve and AUC score: These are used to evaluate the performance of a binary classification model. The ROC curve visualizes the trade-off between sensitivity and specificity, and the AUC score provides a single metric to summarize the ROC curve.\n",
    "\n",
    "2. Confusion matrix: This matrix provides a summary of correct and incorrect predictions broken down by each class, allowing you to understand the model's performance in more detail.\n",
    "\n",
    "3. Classification report: This report includes precision, recall, F1-score, and support for each class in the dataset, providing a comprehensive overview of the model's performance.\n",
    "\n",
    "4. Precision: Precision is the ratio of true positive predictions to the total number of positive predictions made by the model. It measures the accuracy of the positive predictions.\n",
    "\n",
    "5. Recall: Recall, also known as sensitivity, measures the proportion of actual positives that were correctly identified by the model.\n",
    "\n",
    "6. F1-score: The F1-score is the harmonic mean of precision and recall, providing a balanced measure that considers both false positives and false negatives.\n",
    "\n"
   ]
  },
  {
   "cell_type": "markdown",
   "id": "b488349f-95a4-4726-8945-0cf60d973f29",
   "metadata": {},
   "source": [
    "## 11.Feature importance\n",
    "Feature importance is a crucial aspect of understanding how different features in your dataset contribute to the predictions made by your model. In the context of house price prediction, determining feature importance can help you identify the key factors that influence the pricing of houses. \n",
    "\n",
    "There are several methods for calculating feature importance in machine learning models. Some common techniques include:\n",
    "\n",
    "1. Permutation Importance: This method involves shuffling the values of each feature one at a time and observing the impact on the model's performance. The drop in model performance after shuffling a particular feature indicates its importance.\n",
    "\n",
    "2. Feature Importance from Trees: For tree-based models like Random Forest or Gradient Boosting, feature importance can be derived from the information gain or Gini impurity reduction associated with each feature split in the trees.\n",
    "\n",
    "3. SHAP Values: SHAP (SHapley Additive exPlanations) values provide a unified measure of feature importance based on game theory concepts. They quantify the impact of each feature on the model's output for each prediction."
   ]
  },
  {
   "cell_type": "markdown",
   "id": "4fd1b5c6-3fa1-42e8-8875-dd61e6957841",
   "metadata": {},
   "source": [
    "## END ON Documentations "
   ]
  },
  {
   "cell_type": "markdown",
   "id": "7e7a0a7d-b655-4f96-a5a8-e76f025d257a",
   "metadata": {},
   "source": [
    "import numpy as np\n",
    "import pandas as pd\n",
    "import matplotlib.pyplot as pltl"
   ]
  },
  {
   "cell_type": "code",
   "execution_count": 41,
   "id": "026cd578-371d-4e69-91a1-ae7121275c61",
   "metadata": {},
   "outputs": [],
   "source": [
    "import numpy as np\n",
    "import pandas as pd \n",
    "import matplotlib.pyplot as plt"
   ]
  },
  {
   "cell_type": "code",
   "execution_count": 42,
   "id": "cc5eb314-a249-49ea-af20-d70820def51a",
   "metadata": {},
   "outputs": [],
   "source": [
    "data = pd.read_csv(\"data.csv\")\n"
   ]
  },
  {
   "cell_type": "code",
   "execution_count": 43,
   "id": "38fa2a13-a6c0-4a9d-81b9-bed747b52bf1",
   "metadata": {},
   "outputs": [
    {
     "data": {
      "text/html": [
       "<div>\n",
       "<style scoped>\n",
       "    .dataframe tbody tr th:only-of-type {\n",
       "        vertical-align: middle;\n",
       "    }\n",
       "\n",
       "    .dataframe tbody tr th {\n",
       "        vertical-align: top;\n",
       "    }\n",
       "\n",
       "    .dataframe thead th {\n",
       "        text-align: right;\n",
       "    }\n",
       "</style>\n",
       "<table border=\"1\" class=\"dataframe\">\n",
       "  <thead>\n",
       "    <tr style=\"text-align: right;\">\n",
       "      <th></th>\n",
       "      <th>price</th>\n",
       "      <th>bedrooms</th>\n",
       "      <th>bathrooms</th>\n",
       "      <th>sqft_living</th>\n",
       "      <th>sqft_lot</th>\n",
       "      <th>floors</th>\n",
       "      <th>waterfront</th>\n",
       "      <th>view</th>\n",
       "      <th>condition</th>\n",
       "    </tr>\n",
       "  </thead>\n",
       "  <tbody>\n",
       "    <tr>\n",
       "      <th>0</th>\n",
       "      <td>313000</td>\n",
       "      <td>3</td>\n",
       "      <td>1.50</td>\n",
       "      <td>1340</td>\n",
       "      <td>7912</td>\n",
       "      <td>1.5</td>\n",
       "      <td>0</td>\n",
       "      <td>0</td>\n",
       "      <td>3</td>\n",
       "    </tr>\n",
       "    <tr>\n",
       "      <th>1</th>\n",
       "      <td>2384000</td>\n",
       "      <td>5</td>\n",
       "      <td>2.50</td>\n",
       "      <td>3650</td>\n",
       "      <td>9050</td>\n",
       "      <td>2.0</td>\n",
       "      <td>0</td>\n",
       "      <td>4</td>\n",
       "      <td>5</td>\n",
       "    </tr>\n",
       "    <tr>\n",
       "      <th>2</th>\n",
       "      <td>342000</td>\n",
       "      <td>3</td>\n",
       "      <td>2.00</td>\n",
       "      <td>1930</td>\n",
       "      <td>11947</td>\n",
       "      <td>1.0</td>\n",
       "      <td>0</td>\n",
       "      <td>0</td>\n",
       "      <td>4</td>\n",
       "    </tr>\n",
       "    <tr>\n",
       "      <th>3</th>\n",
       "      <td>420000</td>\n",
       "      <td>3</td>\n",
       "      <td>2.25</td>\n",
       "      <td>2000</td>\n",
       "      <td>8030</td>\n",
       "      <td>1.0</td>\n",
       "      <td>0</td>\n",
       "      <td>0</td>\n",
       "      <td>4</td>\n",
       "    </tr>\n",
       "    <tr>\n",
       "      <th>4</th>\n",
       "      <td>550000</td>\n",
       "      <td>4</td>\n",
       "      <td>2.50</td>\n",
       "      <td>1940</td>\n",
       "      <td>10500</td>\n",
       "      <td>1.0</td>\n",
       "      <td>0</td>\n",
       "      <td>0</td>\n",
       "      <td>4</td>\n",
       "    </tr>\n",
       "    <tr>\n",
       "      <th>...</th>\n",
       "      <td>...</td>\n",
       "      <td>...</td>\n",
       "      <td>...</td>\n",
       "      <td>...</td>\n",
       "      <td>...</td>\n",
       "      <td>...</td>\n",
       "      <td>...</td>\n",
       "      <td>...</td>\n",
       "      <td>...</td>\n",
       "    </tr>\n",
       "    <tr>\n",
       "      <th>1994</th>\n",
       "      <td>456000</td>\n",
       "      <td>4</td>\n",
       "      <td>1.75</td>\n",
       "      <td>1670</td>\n",
       "      <td>9886</td>\n",
       "      <td>1.0</td>\n",
       "      <td>0</td>\n",
       "      <td>0</td>\n",
       "      <td>5</td>\n",
       "    </tr>\n",
       "    <tr>\n",
       "      <th>1995</th>\n",
       "      <td>355500</td>\n",
       "      <td>3</td>\n",
       "      <td>2.50</td>\n",
       "      <td>2600</td>\n",
       "      <td>5540</td>\n",
       "      <td>2.0</td>\n",
       "      <td>0</td>\n",
       "      <td>0</td>\n",
       "      <td>3</td>\n",
       "    </tr>\n",
       "    <tr>\n",
       "      <th>1996</th>\n",
       "      <td>299950</td>\n",
       "      <td>4</td>\n",
       "      <td>1.75</td>\n",
       "      <td>1560</td>\n",
       "      <td>31299</td>\n",
       "      <td>1.0</td>\n",
       "      <td>0</td>\n",
       "      <td>0</td>\n",
       "      <td>4</td>\n",
       "    </tr>\n",
       "    <tr>\n",
       "      <th>1997</th>\n",
       "      <td>335000</td>\n",
       "      <td>3</td>\n",
       "      <td>2.00</td>\n",
       "      <td>1170</td>\n",
       "      <td>5360</td>\n",
       "      <td>1.0</td>\n",
       "      <td>0</td>\n",
       "      <td>0</td>\n",
       "      <td>3</td>\n",
       "    </tr>\n",
       "    <tr>\n",
       "      <th>1998</th>\n",
       "      <td>268500</td>\n",
       "      <td>4</td>\n",
       "      <td>2.50</td>\n",
       "      <td>2100</td>\n",
       "      <td>4237</td>\n",
       "      <td>2.0</td>\n",
       "      <td>0</td>\n",
       "      <td>0</td>\n",
       "      <td>3</td>\n",
       "    </tr>\n",
       "  </tbody>\n",
       "</table>\n",
       "<p>1999 rows × 9 columns</p>\n",
       "</div>"
      ],
      "text/plain": [
       "        price  bedrooms  bathrooms  sqft_living  sqft_lot  floors  waterfront  \\\n",
       "0      313000         3       1.50         1340      7912     1.5           0   \n",
       "1     2384000         5       2.50         3650      9050     2.0           0   \n",
       "2      342000         3       2.00         1930     11947     1.0           0   \n",
       "3      420000         3       2.25         2000      8030     1.0           0   \n",
       "4      550000         4       2.50         1940     10500     1.0           0   \n",
       "...       ...       ...        ...          ...       ...     ...         ...   \n",
       "1994   456000         4       1.75         1670      9886     1.0           0   \n",
       "1995   355500         3       2.50         2600      5540     2.0           0   \n",
       "1996   299950         4       1.75         1560     31299     1.0           0   \n",
       "1997   335000         3       2.00         1170      5360     1.0           0   \n",
       "1998   268500         4       2.50         2100      4237     2.0           0   \n",
       "\n",
       "      view  condition  \n",
       "0        0          3  \n",
       "1        4          5  \n",
       "2        0          4  \n",
       "3        0          4  \n",
       "4        0          4  \n",
       "...    ...        ...  \n",
       "1994     0          5  \n",
       "1995     0          3  \n",
       "1996     0          4  \n",
       "1997     0          3  \n",
       "1998     0          3  \n",
       "\n",
       "[1999 rows x 9 columns]"
      ]
     },
     "execution_count": 43,
     "metadata": {},
     "output_type": "execute_result"
    }
   ],
   "source": [
    "data"
   ]
  },
  {
   "cell_type": "code",
   "execution_count": 44,
   "id": "ae074152-88e0-4912-a61d-4e4a5dfce2a7",
   "metadata": {},
   "outputs": [
    {
     "data": {
      "text/html": [
       "<div>\n",
       "<style scoped>\n",
       "    .dataframe tbody tr th:only-of-type {\n",
       "        vertical-align: middle;\n",
       "    }\n",
       "\n",
       "    .dataframe tbody tr th {\n",
       "        vertical-align: top;\n",
       "    }\n",
       "\n",
       "    .dataframe thead th {\n",
       "        text-align: right;\n",
       "    }\n",
       "</style>\n",
       "<table border=\"1\" class=\"dataframe\">\n",
       "  <thead>\n",
       "    <tr style=\"text-align: right;\">\n",
       "      <th></th>\n",
       "      <th>price</th>\n",
       "      <th>bedrooms</th>\n",
       "      <th>bathrooms</th>\n",
       "      <th>sqft_living</th>\n",
       "      <th>sqft_lot</th>\n",
       "      <th>floors</th>\n",
       "      <th>waterfront</th>\n",
       "      <th>view</th>\n",
       "      <th>condition</th>\n",
       "    </tr>\n",
       "  </thead>\n",
       "  <tbody>\n",
       "    <tr>\n",
       "      <th>0</th>\n",
       "      <td>313000</td>\n",
       "      <td>3</td>\n",
       "      <td>1.50</td>\n",
       "      <td>1340</td>\n",
       "      <td>7912</td>\n",
       "      <td>1.5</td>\n",
       "      <td>0</td>\n",
       "      <td>0</td>\n",
       "      <td>3</td>\n",
       "    </tr>\n",
       "    <tr>\n",
       "      <th>1</th>\n",
       "      <td>2384000</td>\n",
       "      <td>5</td>\n",
       "      <td>2.50</td>\n",
       "      <td>3650</td>\n",
       "      <td>9050</td>\n",
       "      <td>2.0</td>\n",
       "      <td>0</td>\n",
       "      <td>4</td>\n",
       "      <td>5</td>\n",
       "    </tr>\n",
       "    <tr>\n",
       "      <th>2</th>\n",
       "      <td>342000</td>\n",
       "      <td>3</td>\n",
       "      <td>2.00</td>\n",
       "      <td>1930</td>\n",
       "      <td>11947</td>\n",
       "      <td>1.0</td>\n",
       "      <td>0</td>\n",
       "      <td>0</td>\n",
       "      <td>4</td>\n",
       "    </tr>\n",
       "    <tr>\n",
       "      <th>3</th>\n",
       "      <td>420000</td>\n",
       "      <td>3</td>\n",
       "      <td>2.25</td>\n",
       "      <td>2000</td>\n",
       "      <td>8030</td>\n",
       "      <td>1.0</td>\n",
       "      <td>0</td>\n",
       "      <td>0</td>\n",
       "      <td>4</td>\n",
       "    </tr>\n",
       "    <tr>\n",
       "      <th>4</th>\n",
       "      <td>550000</td>\n",
       "      <td>4</td>\n",
       "      <td>2.50</td>\n",
       "      <td>1940</td>\n",
       "      <td>10500</td>\n",
       "      <td>1.0</td>\n",
       "      <td>0</td>\n",
       "      <td>0</td>\n",
       "      <td>4</td>\n",
       "    </tr>\n",
       "  </tbody>\n",
       "</table>\n",
       "</div>"
      ],
      "text/plain": [
       "     price  bedrooms  bathrooms  sqft_living  sqft_lot  floors  waterfront  \\\n",
       "0   313000         3       1.50         1340      7912     1.5           0   \n",
       "1  2384000         5       2.50         3650      9050     2.0           0   \n",
       "2   342000         3       2.00         1930     11947     1.0           0   \n",
       "3   420000         3       2.25         2000      8030     1.0           0   \n",
       "4   550000         4       2.50         1940     10500     1.0           0   \n",
       "\n",
       "   view  condition  \n",
       "0     0          3  \n",
       "1     4          5  \n",
       "2     0          4  \n",
       "3     0          4  \n",
       "4     0          4  "
      ]
     },
     "execution_count": 44,
     "metadata": {},
     "output_type": "execute_result"
    }
   ],
   "source": [
    "data.head()"
   ]
  },
  {
   "cell_type": "code",
   "execution_count": 45,
   "id": "d206b0ef-f6d1-440e-affa-fefdc5b628d6",
   "metadata": {},
   "outputs": [
    {
     "data": {
      "text/html": [
       "<div>\n",
       "<style scoped>\n",
       "    .dataframe tbody tr th:only-of-type {\n",
       "        vertical-align: middle;\n",
       "    }\n",
       "\n",
       "    .dataframe tbody tr th {\n",
       "        vertical-align: top;\n",
       "    }\n",
       "\n",
       "    .dataframe thead th {\n",
       "        text-align: right;\n",
       "    }\n",
       "</style>\n",
       "<table border=\"1\" class=\"dataframe\">\n",
       "  <thead>\n",
       "    <tr style=\"text-align: right;\">\n",
       "      <th></th>\n",
       "      <th>price</th>\n",
       "      <th>bedrooms</th>\n",
       "      <th>bathrooms</th>\n",
       "      <th>sqft_living</th>\n",
       "      <th>sqft_lot</th>\n",
       "      <th>floors</th>\n",
       "      <th>waterfront</th>\n",
       "      <th>view</th>\n",
       "      <th>condition</th>\n",
       "    </tr>\n",
       "  </thead>\n",
       "  <tbody>\n",
       "    <tr>\n",
       "      <th>1994</th>\n",
       "      <td>456000</td>\n",
       "      <td>4</td>\n",
       "      <td>1.75</td>\n",
       "      <td>1670</td>\n",
       "      <td>9886</td>\n",
       "      <td>1.0</td>\n",
       "      <td>0</td>\n",
       "      <td>0</td>\n",
       "      <td>5</td>\n",
       "    </tr>\n",
       "    <tr>\n",
       "      <th>1995</th>\n",
       "      <td>355500</td>\n",
       "      <td>3</td>\n",
       "      <td>2.50</td>\n",
       "      <td>2600</td>\n",
       "      <td>5540</td>\n",
       "      <td>2.0</td>\n",
       "      <td>0</td>\n",
       "      <td>0</td>\n",
       "      <td>3</td>\n",
       "    </tr>\n",
       "    <tr>\n",
       "      <th>1996</th>\n",
       "      <td>299950</td>\n",
       "      <td>4</td>\n",
       "      <td>1.75</td>\n",
       "      <td>1560</td>\n",
       "      <td>31299</td>\n",
       "      <td>1.0</td>\n",
       "      <td>0</td>\n",
       "      <td>0</td>\n",
       "      <td>4</td>\n",
       "    </tr>\n",
       "    <tr>\n",
       "      <th>1997</th>\n",
       "      <td>335000</td>\n",
       "      <td>3</td>\n",
       "      <td>2.00</td>\n",
       "      <td>1170</td>\n",
       "      <td>5360</td>\n",
       "      <td>1.0</td>\n",
       "      <td>0</td>\n",
       "      <td>0</td>\n",
       "      <td>3</td>\n",
       "    </tr>\n",
       "    <tr>\n",
       "      <th>1998</th>\n",
       "      <td>268500</td>\n",
       "      <td>4</td>\n",
       "      <td>2.50</td>\n",
       "      <td>2100</td>\n",
       "      <td>4237</td>\n",
       "      <td>2.0</td>\n",
       "      <td>0</td>\n",
       "      <td>0</td>\n",
       "      <td>3</td>\n",
       "    </tr>\n",
       "  </tbody>\n",
       "</table>\n",
       "</div>"
      ],
      "text/plain": [
       "       price  bedrooms  bathrooms  sqft_living  sqft_lot  floors  waterfront  \\\n",
       "1994  456000         4       1.75         1670      9886     1.0           0   \n",
       "1995  355500         3       2.50         2600      5540     2.0           0   \n",
       "1996  299950         4       1.75         1560     31299     1.0           0   \n",
       "1997  335000         3       2.00         1170      5360     1.0           0   \n",
       "1998  268500         4       2.50         2100      4237     2.0           0   \n",
       "\n",
       "      view  condition  \n",
       "1994     0          5  \n",
       "1995     0          3  \n",
       "1996     0          4  \n",
       "1997     0          3  \n",
       "1998     0          3  "
      ]
     },
     "execution_count": 45,
     "metadata": {},
     "output_type": "execute_result"
    }
   ],
   "source": [
    "data.tail()"
   ]
  },
  {
   "cell_type": "code",
   "execution_count": 46,
   "id": "cceec061-1d3a-4f81-bd85-b3d2c837d007",
   "metadata": {},
   "outputs": [
    {
     "name": "stdout",
     "output_type": "stream",
     "text": [
      "RMSE: 0.3873\n"
     ]
    }
   ],
   "source": [
    "import numpy as np\n",
    "\n",
    "def rmse(predictions, targets):\n",
    "    \"\"\"Calculate the root mean squared error between predictions and targets\"\"\"\n",
    "    return np.sqrt(np.mean((predictions - targets) ** 2))\n",
    "\n",
    "# Generate some example data\n",
    "predictions = np.array([1.2, 2.4, 3.6, 4.8])\n",
    "targets = np.array([1.0, 2.0, 3.0, 5.0])\n",
    "\n",
    "# Calculate RMSE\n",
    "rmse_error = rmse(predictions, targets)\n",
    "print(f'RMSE: {rmse_error:.4f}')"
   ]
  },
  {
   "cell_type": "code",
   "execution_count": 74,
   "id": "8d620a04-2e9f-4947-bb6d-dffa7c4db517",
   "metadata": {},
   "outputs": [
    {
     "data": {
      "image/png": "[encoded data removed]",
      "text/plain": [
       "<Figure size 640x480 with 1 Axes>"
      ]
     },
     "metadata": {},
     "output_type": "display_data"
    }
   ],
   "source": [
    "labels = [\"bathrooms\", \"sqft_living\", \"price\"]\n",
    "sizes = [25, 35, 40]\n",
    "\n",
    "plt.pie(sizes, labels=labels, autopct=\"%1.5f%%\", startangle = 140)\n",
    "plt.show()"
   ]
  },
  {
   "cell_type": "code",
   "execution_count": 76,
   "id": "505a9b6e-58df-4304-8012-cad73976c903",
   "metadata": {},
   "outputs": [
    {
     "data": {
      "image/png": "[encoded data removed]",
      "text/plain": [
       "<Figure size 640x480 with 1 Axes>"
      ]
     },
     "metadata": {},
     "output_type": "display_data"
    }
   ],
   "source": [
    "data = np.random.random(1000)\n",
    "plt.hist(data, bins = 7, color = \"yellow\", edgecolor = \"black\")\n",
    "plt.show()"
   ]
  },
  {
   "cell_type": "code",
   "execution_count": 47,
   "id": "7e98fdd3-3238-454c-9724-82d6474bbd3a",
   "metadata": {},
   "outputs": [],
   "source": [
    "import matplotlib.pyplot as plt"
   ]
  },
  {
   "cell_type": "code",
   "execution_count": 48,
   "id": "cdf24579-2c36-49e9-8973-e282a8b1fa5f",
   "metadata": {},
   "outputs": [
    {
     "data": {
      "image/png": "[encoded data removed]",
      "text/plain": [
       "<Figure size 1500x1000 with 9 Axes>"
      ]
     },
     "metadata": {},
     "output_type": "display_data"
    }
   ],
   "source": [
    "data.hist(figsize=(15, 10), bins=50)\n",
    "plt.show()"
   ]
  },
  {
   "cell_type": "code",
   "execution_count": 49,
   "id": "32f961ef-fd56-4f28-b372-da30a963f4e9",
   "metadata": {},
   "outputs": [
    {
     "name": "stdout",
     "output_type": "stream",
     "text": [
      "0    3\n",
      "1    5\n",
      "2    4\n",
      "3    4\n",
      "4    4\n",
      "Name: condition, dtype: int64\n"
     ]
    },
    {
     "data": {
      "text/html": [
       "<div>\n",
       "<style scoped>\n",
       "    .dataframe tbody tr th:only-of-type {\n",
       "        vertical-align: middle;\n",
       "    }\n",
       "\n",
       "    .dataframe tbody tr th {\n",
       "        vertical-align: top;\n",
       "    }\n",
       "\n",
       "    .dataframe thead th {\n",
       "        text-align: right;\n",
       "    }\n",
       "</style>\n",
       "<table border=\"1\" class=\"dataframe\">\n",
       "  <thead>\n",
       "    <tr style=\"text-align: right;\">\n",
       "      <th></th>\n",
       "      <th>price</th>\n",
       "      <th>bedrooms</th>\n",
       "      <th>bathrooms</th>\n",
       "      <th>sqft_living</th>\n",
       "      <th>sqft_lot</th>\n",
       "      <th>floors</th>\n",
       "      <th>waterfront</th>\n",
       "      <th>view</th>\n",
       "    </tr>\n",
       "  </thead>\n",
       "  <tbody>\n",
       "    <tr>\n",
       "      <th>0</th>\n",
       "      <td>313000</td>\n",
       "      <td>3</td>\n",
       "      <td>1.50</td>\n",
       "      <td>1340</td>\n",
       "      <td>7912</td>\n",
       "      <td>1.5</td>\n",
       "      <td>0</td>\n",
       "      <td>0</td>\n",
       "    </tr>\n",
       "    <tr>\n",
       "      <th>1</th>\n",
       "      <td>2384000</td>\n",
       "      <td>5</td>\n",
       "      <td>2.50</td>\n",
       "      <td>3650</td>\n",
       "      <td>9050</td>\n",
       "      <td>2.0</td>\n",
       "      <td>0</td>\n",
       "      <td>4</td>\n",
       "    </tr>\n",
       "    <tr>\n",
       "      <th>2</th>\n",
       "      <td>342000</td>\n",
       "      <td>3</td>\n",
       "      <td>2.00</td>\n",
       "      <td>1930</td>\n",
       "      <td>11947</td>\n",
       "      <td>1.0</td>\n",
       "      <td>0</td>\n",
       "      <td>0</td>\n",
       "    </tr>\n",
       "    <tr>\n",
       "      <th>3</th>\n",
       "      <td>420000</td>\n",
       "      <td>3</td>\n",
       "      <td>2.25</td>\n",
       "      <td>2000</td>\n",
       "      <td>8030</td>\n",
       "      <td>1.0</td>\n",
       "      <td>0</td>\n",
       "      <td>0</td>\n",
       "    </tr>\n",
       "    <tr>\n",
       "      <th>4</th>\n",
       "      <td>550000</td>\n",
       "      <td>4</td>\n",
       "      <td>2.50</td>\n",
       "      <td>1940</td>\n",
       "      <td>10500</td>\n",
       "      <td>1.0</td>\n",
       "      <td>0</td>\n",
       "      <td>0</td>\n",
       "    </tr>\n",
       "  </tbody>\n",
       "</table>\n",
       "</div>"
      ],
      "text/plain": [
       "     price  bedrooms  bathrooms  sqft_living  sqft_lot  floors  waterfront  \\\n",
       "0   313000         3       1.50         1340      7912     1.5           0   \n",
       "1  2384000         5       2.50         3650      9050     2.0           0   \n",
       "2   342000         3       2.00         1930     11947     1.0           0   \n",
       "3   420000         3       2.25         2000      8030     1.0           0   \n",
       "4   550000         4       2.50         1940     10500     1.0           0   \n",
       "\n",
       "   view  \n",
       "0     0  \n",
       "1     4  \n",
       "2     0  \n",
       "3     0  \n",
       "4     0  "
      ]
     },
     "execution_count": 49,
     "metadata": {},
     "output_type": "execute_result"
    }
   ],
   "source": [
    "#drop the target row\n",
    "x = data.drop(\"condition\", axis = 1)\n",
    "y = data[\"condition\"]\n",
    "print(y.head())\n",
    "x.head()"
   ]
  },
  {
   "cell_type": "code",
   "execution_count": 50,
   "id": "4fe54fa9-35e7-4fea-85b8-862db9281aab",
   "metadata": {},
   "outputs": [],
   "source": [
    "from sklearn.model_selection import train_test_split"
   ]
  },
  {
   "cell_type": "code",
   "execution_count": 51,
   "id": "7f9cd859-02b1-42d4-81b4-6145e1397d58",
   "metadata": {},
   "outputs": [],
   "source": [
    "x_train ,x_test,y_train,y_test=train_test_split(x,y,test_size=0.2)"
   ]
  },
  {
   "cell_type": "code",
   "execution_count": 52,
   "id": "c5a710d9-dc1b-400b-95f4-ff5443b637e2",
   "metadata": {},
   "outputs": [
    {
     "data": {
      "text/plain": [
       "((1599, 8), (400, 8), (1599,), (400,))"
      ]
     },
     "execution_count": 52,
     "metadata": {},
     "output_type": "execute_result"
    }
   ],
   "source": [
    "x_train.shape,x_test.shape,y_train.shape,y_test.shape"
   ]
  },
  {
   "cell_type": "code",
   "execution_count": 53,
   "id": "5b75e858-6ef0-4c21-aaa5-3a40bd7b6015",
   "metadata": {},
   "outputs": [],
   "source": [
    "#model train \n",
    "#model choosing \n",
    "from sklearn.ensemble import RandomForestClassifier"
   ]
  },
  {
   "cell_type": "code",
   "execution_count": 54,
   "id": "b4184af7-f2be-4b67-8f41-22add3bd70d6",
   "metadata": {},
   "outputs": [],
   "source": [
    "#model created\n",
    "clf=RandomForestClassifier()"
   ]
  },
  {
   "cell_type": "code",
   "execution_count": 55,
   "id": "18a2b9cc-b261-4003-a9d8-fbb422062271",
   "metadata": {},
   "outputs": [
    {
     "data": {
      "text/html": [
       "<style>#sk-container-id-3 {color: black;background-color: white;}#sk-container-id-3 pre{padding: 0;}#sk-container-id-3 div.sk-toggleable {background-color: white;}#sk-container-id-3 label.sk-toggleable__label {cursor: pointer;display: block;width: 100%;margin-bottom: 0;padding: 0.3em;box-sizing: border-box;text-align: center;}#sk-container-id-3 label.sk-toggleable__label-arrow:before {content: \"▸\";float: left;margin-right: 0.25em;color: #696969;}#sk-container-id-3 label.sk-toggleable__label-arrow:hover:before {color: black;}#sk-container-id-3 div.sk-estimator:hover label.sk-toggleable__label-arrow:before {color: black;}#sk-container-id-3 div.sk-toggleable__content {max-height: 0;max-width: 0;overflow: hidden;text-align: left;background-color: #f0f8ff;}#sk-container-id-3 div.sk-toggleable__content pre {margin: 0.2em;color: black;border-radius: 0.25em;background-color: #f0f8ff;}#sk-container-id-3 input.sk-toggleable__control:checked~div.sk-toggleable__content {max-height: 200px;max-width: 100%;overflow: auto;}#sk-container-id-3 input.sk-toggleable__control:checked~label.sk-toggleable__label-arrow:before {content: \"▾\";}#sk-container-id-3 div.sk-estimator input.sk-toggleable__control:checked~label.sk-toggleable__label {background-color: #d4ebff;}#sk-container-id-3 div.sk-label input.sk-toggleable__control:checked~label.sk-toggleable__label {background-color: #d4ebff;}#sk-container-id-3 input.sk-hidden--visually {border: 0;clip: rect(1px 1px 1px 1px);clip: rect(1px, 1px, 1px, 1px);height: 1px;margin: -1px;overflow: hidden;padding: 0;position: absolute;width: 1px;}#sk-container-id-3 div.sk-estimator {font-family: monospace;background-color: #f0f8ff;border: 1px dotted black;border-radius: 0.25em;box-sizing: border-box;margin-bottom: 0.5em;}#sk-container-id-3 div.sk-estimator:hover {background-color: #d4ebff;}#sk-container-id-3 div.sk-parallel-item::after {content: \"\";width: 100%;border-bottom: 1px solid gray;flex-grow: 1;}#sk-container-id-3 div.sk-label:hover label.sk-toggleable__label {background-color: #d4ebff;}#sk-container-id-3 div.sk-serial::before {content: \"\";position: absolute;border-left: 1px solid gray;box-sizing: border-box;top: 0;bottom: 0;left: 50%;z-index: 0;}#sk-container-id-3 div.sk-serial {display: flex;flex-direction: column;align-items: center;background-color: white;padding-right: 0.2em;padding-left: 0.2em;position: relative;}#sk-container-id-3 div.sk-item {position: relative;z-index: 1;}#sk-container-id-3 div.sk-parallel {display: flex;align-items: stretch;justify-content: center;background-color: white;position: relative;}#sk-container-id-3 div.sk-item::before, #sk-container-id-3 div.sk-parallel-item::before {content: \"\";position: absolute;border-left: 1px solid gray;box-sizing: border-box;top: 0;bottom: 0;left: 50%;z-index: -1;}#sk-container-id-3 div.sk-parallel-item {display: flex;flex-direction: column;z-index: 1;position: relative;background-color: white;}#sk-container-id-3 div.sk-parallel-item:first-child::after {align-self: flex-end;width: 50%;}#sk-container-id-3 div.sk-parallel-item:last-child::after {align-self: flex-start;width: 50%;}#sk-container-id-3 div.sk-parallel-item:only-child::after {width: 0;}#sk-container-id-3 div.sk-dashed-wrapped {border: 1px dashed gray;margin: 0 0.4em 0.5em 0.4em;box-sizing: border-box;padding-bottom: 0.4em;background-color: white;}#sk-container-id-3 div.sk-label label {font-family: monospace;font-weight: bold;display: inline-block;line-height: 1.2em;}#sk-container-id-3 div.sk-label-container {text-align: center;}#sk-container-id-3 div.sk-container {/* jupyter's `normalize.less` sets `[hidden] { display: none; }` but bootstrap.min.css set `[hidden] { display: none !important; }` so we also need the `!important` here to be able to override the default hidden behavior on the sphinx rendered scikit-learn.org. See: https://github.com/scikit-learn/scikit-learn/issues/21755 */display: inline-block !important;position: relative;}#sk-container-id-3 div.sk-text-repr-fallback {display: none;}</style><div id=\"sk-container-id-3\" class=\"sk-top-container\"><div class=\"sk-text-repr-fallback\"><pre>RandomForestClassifier()</pre><b>In a Jupyter environment, please rerun this cell to show the HTML representation or trust the notebook. <br />On GitHub, the HTML representation is unable to render, please try loading this page with nbviewer.org.</b></div><div class=\"sk-container\" hidden><div class=\"sk-item\"><div class=\"sk-estimator sk-toggleable\"><input class=\"sk-toggleable__control sk-hidden--visually\" id=\"sk-estimator-id-3\" type=\"checkbox\" checked><label for=\"sk-estimator-id-3\" class=\"sk-toggleable__label sk-toggleable__label-arrow\">RandomForestClassifier</label><div class=\"sk-toggleable__content\"><pre>RandomForestClassifier()</pre></div></div></div></div></div>"
      ],
      "text/plain": [
       "RandomForestClassifier()"
      ]
     },
     "execution_count": 55,
     "metadata": {},
     "output_type": "execute_result"
    }
   ],
   "source": [
    "#learn the model creating object by calling the model\n",
    "clf.fit(x_train,y_train)"
   ]
  },
  {
   "cell_type": "code",
   "execution_count": 56,
   "id": "508d7a17-671b-4f57-a09f-9caf14f2600f",
   "metadata": {},
   "outputs": [
    {
     "name": "stdout",
     "output_type": "stream",
     "text": [
      "<class 'pandas.core.frame.DataFrame'>\n",
      "RangeIndex: 1999 entries, 0 to 1998\n",
      "Data columns (total 9 columns):\n",
      " #   Column       Non-Null Count  Dtype  \n",
      "---  ------       --------------  -----  \n",
      " 0   price        1999 non-null   int64  \n",
      " 1   bedrooms     1999 non-null   int64  \n",
      " 2   bathrooms    1999 non-null   float64\n",
      " 3   sqft_living  1999 non-null   int64  \n",
      " 4   sqft_lot     1999 non-null   int64  \n",
      " 5   floors       1999 non-null   float64\n",
      " 6   waterfront   1999 non-null   int64  \n",
      " 7   view         1999 non-null   int64  \n",
      " 8   condition    1999 non-null   int64  \n",
      "dtypes: float64(2), int64(7)\n",
      "memory usage: 140.7 KB\n"
     ]
    }
   ],
   "source": [
    "data.info()"
   ]
  },
  {
   "cell_type": "code",
   "execution_count": 57,
   "id": "8d46bfdf-1faf-4102-849b-d2abee59a161",
   "metadata": {},
   "outputs": [],
   "source": [
    "test= np.array([1,2,3,4,5,6,7,8,])\n",
    "dir(clf);"
   ]
  },
  {
   "cell_type": "code",
   "execution_count": 58,
   "id": "808939de-3509-44e1-9076-1028c42b9631",
   "metadata": {},
   "outputs": [],
   "source": [
    "y_pred= clf.predict(x_test)#predicting"
   ]
  },
  {
   "cell_type": "code",
   "execution_count": 59,
   "id": "6992c43c-3890-4d3b-9014-fab8992a8b78",
   "metadata": {},
   "outputs": [
    {
     "name": "stdout",
     "output_type": "stream",
     "text": [
      "       price  bedrooms  bathrooms  sqft_living  sqft_lot  floors  waterfront  \\\n",
      "893   141800         2       1.00          930      4743     1.0           0   \n",
      "361   530000         4       2.75         2280      2850     1.5           0   \n",
      "1937  425000         4       2.75         2440     15349     2.0           0   \n",
      "297   775000         3       2.00         2540      7200     1.5           0   \n",
      "196   513000         4       2.50         2000      5684     2.0           0   \n",
      "\n",
      "      view  \n",
      "893      0  \n",
      "361      0  \n",
      "1937     1  \n",
      "297      3  \n",
      "196      0  \n"
     ]
    },
    {
     "data": {
      "text/plain": [
       "array([3, 3, 3, 3, 3, 4, 3, 4, 3, 4, 3, 3, 3, 3, 3, 4, 4, 3, 3, 3, 3, 3,\n",
       "       5, 3, 3, 3, 3, 3, 3, 3, 4, 3, 3, 4, 3, 3, 3, 3, 3, 4, 3, 3, 3, 3,\n",
       "       3, 3, 3, 3, 4, 5, 3, 3, 3, 4, 3, 3, 3, 3, 3, 3, 3, 3, 3, 4, 3, 3,\n",
       "       3, 4, 4, 4, 5, 3, 3, 3, 3, 3, 3, 3, 3, 3, 4, 4, 4, 4, 3, 3, 3, 4,\n",
       "       3, 3, 3, 3, 3, 3, 4, 3, 3, 3, 4, 3, 3, 3, 3, 3, 3, 3, 3, 3, 3, 3,\n",
       "       4, 4, 3, 5, 4, 4, 3, 3, 3, 3, 3, 3, 4, 3, 3, 3, 4, 3, 4, 4, 3, 3,\n",
       "       3, 4, 4, 3, 3, 3, 3, 3, 4, 3, 3, 4, 3, 4, 3, 4, 3, 3, 3, 3, 3, 4,\n",
       "       3, 4, 3, 3, 3, 3, 3, 5, 3, 3, 3, 4, 4, 3, 3, 3, 3, 3, 3, 3, 3, 3,\n",
       "       3, 3, 3, 3, 3, 3, 3, 4, 3, 3, 3, 3, 3, 3, 3, 3, 3, 4, 3, 4, 3, 3,\n",
       "       3, 3, 4, 3, 3, 5, 3, 3, 3, 3, 3, 4, 3, 3, 5, 3, 4, 3, 3, 3, 3, 4,\n",
       "       3, 3, 4, 3, 3, 3, 3, 3, 3, 4, 3, 3, 3, 3, 3, 3, 3, 4, 4, 4, 3, 4,\n",
       "       4, 3, 4, 4, 3, 3, 3, 4, 3, 3, 3, 3, 3, 3, 4, 4, 3, 4, 4, 3, 3, 3,\n",
       "       3, 3, 3, 3, 4, 3, 4, 3, 3, 3, 3, 3, 3, 3, 3, 3, 4, 3, 3, 3, 3, 4,\n",
       "       3, 4, 4, 3, 3, 3, 3, 3, 3, 3, 3, 3, 3, 3, 3, 3, 4, 3, 4, 3, 3, 3,\n",
       "       3, 5, 5, 3, 3, 4, 3, 3, 3, 3, 3, 4, 3, 3, 3, 3, 3, 3, 3, 3, 3, 3,\n",
       "       4, 4, 3, 3, 3, 3, 3, 5, 3, 4, 3, 4, 3, 3, 3, 4, 4, 4, 3, 3, 3, 3,\n",
       "       3, 3, 3, 3, 3, 3, 3, 3, 3, 3, 4, 3, 4, 3, 4, 3, 5, 3, 3, 3, 3, 4,\n",
       "       5, 4, 4, 3, 4, 4, 3, 3, 4, 3, 3, 3, 4, 3, 3, 3, 3, 4, 3, 3, 3, 3,\n",
       "       3, 4, 3, 3], dtype=int64)"
      ]
     },
     "execution_count": 59,
     "metadata": {},
     "output_type": "execute_result"
    }
   ],
   "source": [
    "print(x_test.head())\n",
    "y_pred"
   ]
  },
  {
   "cell_type": "code",
   "execution_count": 60,
   "id": "77340c66-c804-44a5-a465-b69b76094076",
   "metadata": {},
   "outputs": [
    {
     "name": "stdout",
     "output_type": "stream",
     "text": [
      "893     4\n",
      "361     4\n",
      "1937    4\n",
      "297     4\n",
      "196     3\n",
      "       ..\n",
      "1446    3\n",
      "1901    3\n",
      "218     4\n",
      "1894    3\n",
      "241     3\n",
      "Name: condition, Length: 400, dtype: int64\n",
      "[3 3 3 3 3 4 3 4 3 4 3 3 3 3 3 4 4 3 3 3 3 3 5 3 3 3 3 3 3 3 4 3 3 4 3 3 3\n",
      " 3 3 4 3 3 3 3 3 3 3 3 4 5 3 3 3 4 3 3 3 3 3 3 3 3 3 4 3 3 3 4 4 4 5 3 3 3\n",
      " 3 3 3 3 3 3 4 4 4 4 3 3 3 4 3 3 3 3 3 3 4 3 3 3 4 3 3 3 3 3 3 3 3 3 3 3 4\n",
      " 4 3 5 4 4 3 3 3 3 3 3 4 3 3 3 4 3 4 4 3 3 3 4 4 3 3 3 3 3 4 3 3 4 3 4 3 4\n",
      " 3 3 3 3 3 4 3 4 3 3 3 3 3 5 3 3 3 4 4 3 3 3 3 3 3 3 3 3 3 3 3 3 3 3 3 4 3\n",
      " 3 3 3 3 3 3 3 3 4 3 4 3 3 3 3 4 3 3 5 3 3 3 3 3 4 3 3 5 3 4 3 3 3 3 4 3 3\n",
      " 4 3 3 3 3 3 3 4 3 3 3 3 3 3 3 4 4 4 3 4 4 3 4 4 3 3 3 4 3 3 3 3 3 3 4 4 3\n",
      " 4 4 3 3 3 3 3 3 3 4 3 4 3 3 3 3 3 3 3 3 3 4 3 3 3 3 4 3 4 4 3 3 3 3 3 3 3\n",
      " 3 3 3 3 3 3 4 3 4 3 3 3 3 5 5 3 3 4 3 3 3 3 3 4 3 3 3 3 3 3 3 3 3 3 4 4 3\n",
      " 3 3 3 3 5 3 4 3 4 3 3 3 4 4 4 3 3 3 3 3 3 3 3 3 3 3 3 3 3 4 3 4 3 4 3 5 3\n",
      " 3 3 3 4 5 4 4 3 4 4 3 3 4 3 3 3 4 3 3 3 3 4 3 3 3 3 3 4 3 3]\n"
     ]
    }
   ],
   "source": [
    "print(y_test)\n",
    "print(y_pred)"
   ]
  },
  {
   "cell_type": "code",
   "execution_count": 61,
   "id": "787410ae-d99e-4272-973b-7801f7ecf554",
   "metadata": {},
   "outputs": [
    {
     "name": "stdout",
     "output_type": "stream",
     "text": [
      "64.00%\n"
     ]
    }
   ],
   "source": [
    "#evaluation\n",
    "print(f\"{clf.score(x_test,y_test)*100:.2f}%\")"
   ]
  },
  {
   "cell_type": "code",
   "execution_count": 62,
   "id": "5e553bd2-7929-4600-afac-6f67496251c0",
   "metadata": {},
   "outputs": [
    {
     "data": {
      "text/plain": [
       "{'bootstrap': True,\n",
       " 'ccp_alpha': 0.0,\n",
       " 'class_weight': None,\n",
       " 'criterion': 'gini',\n",
       " 'max_depth': None,\n",
       " 'max_features': 'sqrt',\n",
       " 'max_leaf_nodes': None,\n",
       " 'max_samples': None,\n",
       " 'min_impurity_decrease': 0.0,\n",
       " 'min_samples_leaf': 1,\n",
       " 'min_samples_split': 2,\n",
       " 'min_weight_fraction_leaf': 0.0,\n",
       " 'n_estimators': 100,\n",
       " 'n_jobs': None,\n",
       " 'oob_score': False,\n",
       " 'random_state': None,\n",
       " 'verbose': 0,\n",
       " 'warm_start': False}"
      ]
     },
     "execution_count": 62,
     "metadata": {},
     "output_type": "execute_result"
    }
   ],
   "source": [
    "#expremenation\n",
    "clf.get_params()"
   ]
  },
  {
   "cell_type": "code",
   "execution_count": 63,
   "id": "1dd3a0e2-8276-488c-bb5c-4f14cf41609a",
   "metadata": {},
   "outputs": [
    {
     "name": "stdout",
     "output_type": "stream",
     "text": [
      "values of estimators =100\n",
      "64.50%\n",
      "values of estimators =110\n",
      "65.50%\n",
      "values of estimators =120\n",
      "64.00%\n",
      "values of estimators =130\n",
      "64.50%\n",
      "values of estimators =140\n",
      "64.50%\n",
      "values of estimators =150\n",
      "65.00%\n",
      "values of estimators =160\n",
      "63.75%\n",
      "values of estimators =170\n",
      "64.25%\n",
      "values of estimators =180\n",
      "64.50%\n",
      "values of estimators =190\n",
      "64.00%\n"
     ]
    }
   ],
   "source": [
    "for i in range(100,200,10):\n",
    "    print(f\"values of estimators ={i}\")\n",
    "    model =RandomForestClassifier(n_estimators=i)\n",
    "    model.fit(x_train,y_train)\n",
    "    print(f\"{model.score(x_test,y_test)*100:.2f}%\")"
   ]
  },
  {
   "cell_type": "code",
   "execution_count": 64,
   "id": "b5b42116-a607-4300-8e12-34baa3da398d",
   "metadata": {},
   "outputs": [],
   "source": [
    "np.random.seed(42)\n",
    "clf=RandomForestClassifier(n_estimators=170).fit(x_train,y_train)"
   ]
  },
  {
   "cell_type": "code",
   "execution_count": 65,
   "id": "0e60a184-149f-4253-9cc6-5cb909356873",
   "metadata": {},
   "outputs": [
    {
     "name": "stdout",
     "output_type": "stream",
     "text": [
      "63.50%\n"
     ]
    }
   ],
   "source": [
    "print(f\"{clf.score(x_test,y_test)*100:.2f}%\")"
   ]
  },
  {
   "cell_type": "code",
   "execution_count": 66,
   "id": "fe3a12d2-41c8-4d17-b8c3-808c788758c5",
   "metadata": {},
   "outputs": [],
   "source": [
    "import pickle"
   ]
  },
  {
   "cell_type": "code",
   "execution_count": 67,
   "id": "8ae7a723-a60a-488c-bfbb-63de93a6bf6c",
   "metadata": {},
   "outputs": [],
   "source": [
    "pickle.dump(clf,open(\"heart_disease_model_1.pkl\",\"wb\"))"
   ]
  },
  {
   "cell_type": "code",
   "execution_count": 68,
   "id": "c3c61e9d-2d92-4ecf-bbed-97abb1027c96",
   "metadata": {},
   "outputs": [
    {
     "data": {
      "text/html": [
       "<style>#sk-container-id-4 {color: black;background-color: white;}#sk-container-id-4 pre{padding: 0;}#sk-container-id-4 div.sk-toggleable {background-color: white;}#sk-container-id-4 label.sk-toggleable__label {cursor: pointer;display: block;width: 100%;margin-bottom: 0;padding: 0.3em;box-sizing: border-box;text-align: center;}#sk-container-id-4 label.sk-toggleable__label-arrow:before {content: \"▸\";float: left;margin-right: 0.25em;color: #696969;}#sk-container-id-4 label.sk-toggleable__label-arrow:hover:before {color: black;}#sk-container-id-4 div.sk-estimator:hover label.sk-toggleable__label-arrow:before {color: black;}#sk-container-id-4 div.sk-toggleable__content {max-height: 0;max-width: 0;overflow: hidden;text-align: left;background-color: #f0f8ff;}#sk-container-id-4 div.sk-toggleable__content pre {margin: 0.2em;color: black;border-radius: 0.25em;background-color: #f0f8ff;}#sk-container-id-4 input.sk-toggleable__control:checked~div.sk-toggleable__content {max-height: 200px;max-width: 100%;overflow: auto;}#sk-container-id-4 input.sk-toggleable__control:checked~label.sk-toggleable__label-arrow:before {content: \"▾\";}#sk-container-id-4 div.sk-estimator input.sk-toggleable__control:checked~label.sk-toggleable__label {background-color: #d4ebff;}#sk-container-id-4 div.sk-label input.sk-toggleable__control:checked~label.sk-toggleable__label {background-color: #d4ebff;}#sk-container-id-4 input.sk-hidden--visually {border: 0;clip: rect(1px 1px 1px 1px);clip: rect(1px, 1px, 1px, 1px);height: 1px;margin: -1px;overflow: hidden;padding: 0;position: absolute;width: 1px;}#sk-container-id-4 div.sk-estimator {font-family: monospace;background-color: #f0f8ff;border: 1px dotted black;border-radius: 0.25em;box-sizing: border-box;margin-bottom: 0.5em;}#sk-container-id-4 div.sk-estimator:hover {background-color: #d4ebff;}#sk-container-id-4 div.sk-parallel-item::after {content: \"\";width: 100%;border-bottom: 1px solid gray;flex-grow: 1;}#sk-container-id-4 div.sk-label:hover label.sk-toggleable__label {background-color: #d4ebff;}#sk-container-id-4 div.sk-serial::before {content: \"\";position: absolute;border-left: 1px solid gray;box-sizing: border-box;top: 0;bottom: 0;left: 50%;z-index: 0;}#sk-container-id-4 div.sk-serial {display: flex;flex-direction: column;align-items: center;background-color: white;padding-right: 0.2em;padding-left: 0.2em;position: relative;}#sk-container-id-4 div.sk-item {position: relative;z-index: 1;}#sk-container-id-4 div.sk-parallel {display: flex;align-items: stretch;justify-content: center;background-color: white;position: relative;}#sk-container-id-4 div.sk-item::before, #sk-container-id-4 div.sk-parallel-item::before {content: \"\";position: absolute;border-left: 1px solid gray;box-sizing: border-box;top: 0;bottom: 0;left: 50%;z-index: -1;}#sk-container-id-4 div.sk-parallel-item {display: flex;flex-direction: column;z-index: 1;position: relative;background-color: white;}#sk-container-id-4 div.sk-parallel-item:first-child::after {align-self: flex-end;width: 50%;}#sk-container-id-4 div.sk-parallel-item:last-child::after {align-self: flex-start;width: 50%;}#sk-container-id-4 div.sk-parallel-item:only-child::after {width: 0;}#sk-container-id-4 div.sk-dashed-wrapped {border: 1px dashed gray;margin: 0 0.4em 0.5em 0.4em;box-sizing: border-box;padding-bottom: 0.4em;background-color: white;}#sk-container-id-4 div.sk-label label {font-family: monospace;font-weight: bold;display: inline-block;line-height: 1.2em;}#sk-container-id-4 div.sk-label-container {text-align: center;}#sk-container-id-4 div.sk-container {/* jupyter's `normalize.less` sets `[hidden] { display: none; }` but bootstrap.min.css set `[hidden] { display: none !important; }` so we also need the `!important` here to be able to override the default hidden behavior on the sphinx rendered scikit-learn.org. See: https://github.com/scikit-learn/scikit-learn/issues/21755 */display: inline-block !important;position: relative;}#sk-container-id-4 div.sk-text-repr-fallback {display: none;}</style><div id=\"sk-container-id-4\" class=\"sk-top-container\"><div class=\"sk-text-repr-fallback\"><pre>RandomForestClassifier(n_estimators=170)</pre><b>In a Jupyter environment, please rerun this cell to show the HTML representation or trust the notebook. <br />On GitHub, the HTML representation is unable to render, please try loading this page with nbviewer.org.</b></div><div class=\"sk-container\" hidden><div class=\"sk-item\"><div class=\"sk-estimator sk-toggleable\"><input class=\"sk-toggleable__control sk-hidden--visually\" id=\"sk-estimator-id-4\" type=\"checkbox\" checked><label for=\"sk-estimator-id-4\" class=\"sk-toggleable__label sk-toggleable__label-arrow\">RandomForestClassifier</label><div class=\"sk-toggleable__content\"><pre>RandomForestClassifier(n_estimators=170)</pre></div></div></div></div></div>"
      ],
      "text/plain": [
       "RandomForestClassifier(n_estimators=170)"
      ]
     },
     "execution_count": 68,
     "metadata": {},
     "output_type": "execute_result"
    }
   ],
   "source": [
    "pickle.load(open(\"heart_disease_model_1.pkl\",\"rb\"))"
   ]
  },
  {
   "cell_type": "code",
   "execution_count": 69,
   "id": "de4d5b91-00c7-4980-b280-9eb5a5c21460",
   "metadata": {},
   "outputs": [],
   "source": [
    "loaded_model=pickle.load(open(\"heart_disease_model_1.pkl\",\"rb\"))"
   ]
  },
  {
   "cell_type": "code",
   "execution_count": 70,
   "id": "412375f0-c8c1-46de-ba02-86c466438cd6",
   "metadata": {},
   "outputs": [
    {
     "data": {
      "text/plain": [
       "array([3, 3, 3, 3, 3, 4, 3, 4, 3, 4, 3, 3, 3, 3, 3, 4, 4, 3, 3, 3, 3, 3,\n",
       "       5, 3, 3, 3, 3, 3, 3, 3, 4, 3, 3, 3, 3, 4, 3, 3, 3, 4, 3, 3, 3, 3,\n",
       "       3, 3, 3, 3, 4, 3, 4, 3, 3, 3, 3, 3, 3, 3, 3, 3, 3, 3, 3, 3, 3, 3,\n",
       "       3, 4, 4, 4, 5, 4, 3, 3, 3, 3, 3, 3, 3, 3, 4, 4, 4, 3, 3, 3, 3, 4,\n",
       "       3, 3, 3, 3, 4, 3, 4, 3, 3, 3, 4, 3, 3, 3, 3, 4, 3, 3, 3, 3, 3, 3,\n",
       "       3, 4, 3, 3, 3, 4, 4, 3, 3, 3, 3, 3, 4, 3, 3, 3, 4, 3, 3, 3, 3, 3,\n",
       "       3, 4, 4, 3, 3, 3, 3, 3, 4, 3, 3, 4, 3, 4, 3, 3, 3, 3, 3, 3, 3, 4,\n",
       "       3, 4, 3, 3, 3, 3, 3, 5, 3, 3, 3, 4, 4, 3, 3, 3, 3, 4, 3, 3, 3, 3,\n",
       "       3, 3, 3, 3, 3, 3, 3, 4, 3, 3, 3, 3, 3, 3, 3, 3, 3, 4, 3, 3, 3, 3,\n",
       "       3, 3, 4, 3, 4, 5, 3, 3, 3, 3, 3, 4, 3, 3, 5, 3, 4, 3, 3, 3, 5, 4,\n",
       "       3, 3, 4, 3, 3, 3, 3, 3, 4, 4, 3, 3, 5, 3, 3, 3, 3, 4, 4, 4, 3, 4,\n",
       "       3, 3, 4, 4, 3, 3, 3, 4, 3, 3, 3, 4, 3, 3, 4, 3, 3, 4, 4, 3, 3, 3,\n",
       "       3, 4, 3, 4, 4, 3, 4, 3, 3, 3, 3, 3, 3, 3, 3, 4, 5, 3, 4, 3, 3, 4,\n",
       "       3, 4, 4, 3, 3, 3, 3, 3, 3, 3, 3, 3, 3, 3, 3, 3, 4, 3, 4, 3, 3, 3,\n",
       "       3, 5, 5, 3, 3, 4, 3, 3, 3, 3, 3, 4, 3, 3, 3, 3, 3, 3, 3, 3, 3, 3,\n",
       "       4, 4, 3, 3, 3, 3, 3, 5, 3, 4, 3, 4, 3, 3, 3, 4, 4, 4, 3, 3, 3, 3,\n",
       "       3, 3, 3, 3, 3, 3, 3, 3, 3, 3, 4, 3, 4, 3, 4, 3, 5, 3, 4, 3, 3, 4,\n",
       "       5, 4, 5, 3, 4, 4, 3, 3, 4, 3, 3, 3, 4, 3, 3, 3, 3, 4, 3, 3, 3, 3,\n",
       "       3, 4, 4, 3], dtype=int64)"
      ]
     },
     "execution_count": 70,
     "metadata": {},
     "output_type": "execute_result"
    }
   ],
   "source": [
    "loaded_model.predict(x_test)"
   ]
  },
  {
   "cell_type": "code",
   "execution_count": 71,
   "id": "871f2f98-f406-4b8d-9038-5239704b639a",
   "metadata": {},
   "outputs": [
    {
     "data": {
      "text/plain": [
       "0.635"
      ]
     },
     "execution_count": 71,
     "metadata": {},
     "output_type": "execute_result"
    }
   ],
   "source": [
    "loaded_model.score(x_test,y_test)"
   ]
  },
  {
   "cell_type": "code",
   "execution_count": null,
   "id": "aaa1a158-9962-412d-88b6-05983f071670",
   "metadata": {},
   "outputs": [],
   "source": []
  },
  {
   "cell_type": "code",
   "execution_count": null,
   "id": "5be43eac-1be6-45fa-81b8-1fefa7c0cebe",
   "metadata": {},
   "outputs": [],
   "source": []
  }
 ],
 "metadata": {
  "kernelspec": {
   "display_name": "Python 3 (ipykernel)",
   "language": "python",
   "name": "python3"
  },
  "language_info": {
   "codemirror_mode": {
    "name": "ipython",
    "version": 3
   },
   "file_extension": ".py",
   "mimetype": "text/x-python",
   "name": "python",
   "nbconvert_exporter": "python",
   "pygments_lexer": "ipython3",
   "version": "3.11.7"
  }
 },
 "nbformat": 4,
 "nbformat_minor": 5
}
